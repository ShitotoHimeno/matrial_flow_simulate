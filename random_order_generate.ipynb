{
 "cells": [
  {
   "cell_type": "code",
   "execution_count": 1,
   "id": "b3a17979",
   "metadata": {},
   "outputs": [],
   "source": [
    "import pandas as pd\n",
    "import random\n",
    "import numpy as np"
   ]
  },
  {
   "cell_type": "code",
   "execution_count": 4,
   "id": "721b143f",
   "metadata": {},
   "outputs": [
    {
     "name": "stdout",
     "output_type": "stream",
     "text": [
      "Empty DataFrame\n",
      "Columns: [order_id, order_daytime, from_where, to_where, order_category, order_emergency, order_timestamp, order_value, order_status]\n",
      "Index: []\n"
     ]
    }
   ],
   "source": [
    "# 計画した列のリスト\n",
    "columns = ['order_id','order_daytime', 'from_where', 'to_where', 'order_category', 'order_emergency', 'order_timestamp', 'order_value', 'order_status']\n",
    "\n",
    "# 空のデータフレームを作成\n",
    "orders_df = pd.DataFrame(columns=columns)\n",
    "\n",
    "print(orders_df)"
   ]
  }
 ],
 "metadata": {
  "kernelspec": {
   "display_name": "Python 3",
   "language": "python",
   "name": "python3"
  },
  "language_info": {
   "codemirror_mode": {
    "name": "ipython",
    "version": 3
   },
   "file_extension": ".py",
   "mimetype": "text/x-python",
   "name": "python",
   "nbconvert_exporter": "python",
   "pygments_lexer": "ipython3",
   "version": "3.13.5"
  }
 },
 "nbformat": 4,
 "nbformat_minor": 5
}
