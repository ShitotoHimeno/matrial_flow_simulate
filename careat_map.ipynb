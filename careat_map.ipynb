{
 "cells": [
  {
   "cell_type": "code",
   "execution_count": 4,
   "id": "560fae78",
   "metadata": {},
   "outputs": [],
   "source": [
    "import osmnx as ox\n",
    "import matplotlib.pyplot as plt\n",
    "import os\n",
    "from IPython.display import display, Image\n",
    "import matplotlib"
   ]
  },
  {
   "cell_type": "code",
   "execution_count": null,
   "id": "7492c17a",
   "metadata": {},
   "outputs": [
    {
     "name": "stdout",
     "output_type": "stream",
     "text": [
      "get_graph\n"
     ]
    },
    {
     "ename": "KeyboardInterrupt",
     "evalue": "",
     "output_type": "error",
     "traceback": [
      "\u001b[31m---------------------------------------------------------------------------\u001b[39m",
      "\u001b[31mKeyboardInterrupt\u001b[39m                         Traceback (most recent call last)",
      "\u001b[36mCell\u001b[39m\u001b[36m \u001b[39m\u001b[32mIn[5]\u001b[39m\u001b[32m, line 14\u001b[39m\n\u001b[32m     12\u001b[39m \u001b[38;5;66;03m# 病院のデータを取得\u001b[39;00m\n\u001b[32m     13\u001b[39m hospital_tags = {\u001b[33m\"\u001b[39m\u001b[33mamenity\u001b[39m\u001b[33m\"\u001b[39m: \u001b[33m\"\u001b[39m\u001b[33mhospital\u001b[39m\u001b[33m\"\u001b[39m}\n\u001b[32m---> \u001b[39m\u001b[32m14\u001b[39m hospitals = \u001b[43mox\u001b[49m\u001b[43m.\u001b[49m\u001b[43mfeatures_from_point\u001b[49m\u001b[43m(\u001b[49m\u001b[43mpoint\u001b[49m\u001b[43m,\u001b[49m\u001b[43m \u001b[49m\u001b[43mdist\u001b[49m\u001b[43m=\u001b[49m\u001b[43mdist\u001b[49m\u001b[43m,\u001b[49m\u001b[43m \u001b[49m\u001b[43mtags\u001b[49m\u001b[43m=\u001b[49m\u001b[43mhospital_tags\u001b[49m\u001b[43m)\u001b[49m\n\u001b[32m     15\u001b[39m \u001b[38;5;28mprint\u001b[39m(\u001b[33mf\u001b[39m\u001b[33m\"\u001b[39m\u001b[33mHospitals found: \u001b[39m\u001b[38;5;132;01m{\u001b[39;00m\u001b[38;5;28mlen\u001b[39m(hospitals)\u001b[38;5;132;01m}\u001b[39;00m\u001b[33m\"\u001b[39m)\n\u001b[32m     17\u001b[39m \u001b[38;5;66;03m# スーパーマーケットのデータを取得\u001b[39;00m\n",
      "\u001b[36mFile \u001b[39m\u001b[32m~\\AppData\\Local\\Packages\\PythonSoftwareFoundation.Python.3.13_qbz5n2kfra8p0\\LocalCache\\local-packages\\Python313\\site-packages\\osmnx\\features.py:175\u001b[39m, in \u001b[36mfeatures_from_point\u001b[39m\u001b[34m(center_point, tags, dist)\u001b[39m\n\u001b[32m    173\u001b[39m \u001b[38;5;66;03m# create bbox from point and dist, then create gdf of features within it\u001b[39;00m\n\u001b[32m    174\u001b[39m bbox = utils_geo.bbox_from_point(center_point, dist)\n\u001b[32m--> \u001b[39m\u001b[32m175\u001b[39m \u001b[38;5;28;01mreturn\u001b[39;00m \u001b[43mfeatures_from_bbox\u001b[49m\u001b[43m(\u001b[49m\u001b[43mbbox\u001b[49m\u001b[43m,\u001b[49m\u001b[43m \u001b[49m\u001b[43mtags\u001b[49m\u001b[43m)\u001b[49m\n",
      "\u001b[36mFile \u001b[39m\u001b[32m~\\AppData\\Local\\Packages\\PythonSoftwareFoundation.Python.3.13_qbz5n2kfra8p0\\LocalCache\\local-packages\\Python313\\site-packages\\osmnx\\features.py:130\u001b[39m, in \u001b[36mfeatures_from_bbox\u001b[39m\u001b[34m(bbox, tags)\u001b[39m\n\u001b[32m    128\u001b[39m \u001b[38;5;66;03m# convert bbox to polygon then create GeoDataFrame of features within it\u001b[39;00m\n\u001b[32m    129\u001b[39m polygon = utils_geo.bbox_to_poly(bbox)\n\u001b[32m--> \u001b[39m\u001b[32m130\u001b[39m \u001b[38;5;28;01mreturn\u001b[39;00m \u001b[43mfeatures_from_polygon\u001b[49m\u001b[43m(\u001b[49m\u001b[43mpolygon\u001b[49m\u001b[43m,\u001b[49m\u001b[43m \u001b[49m\u001b[43mtags\u001b[49m\u001b[43m)\u001b[49m\n",
      "\u001b[36mFile \u001b[39m\u001b[32m~\\AppData\\Local\\Packages\\PythonSoftwareFoundation.Python.3.13_qbz5n2kfra8p0\\LocalCache\\local-packages\\Python313\\site-packages\\osmnx\\features.py:332\u001b[39m, in \u001b[36mfeatures_from_polygon\u001b[39m\u001b[34m(polygon, tags)\u001b[39m\n\u001b[32m    330\u001b[39m \u001b[38;5;66;03m# retrieve the data from Overpass then turn it into a GeoDataFrame\u001b[39;00m\n\u001b[32m    331\u001b[39m response_jsons = _overpass._download_overpass_features(polygon, tags)\n\u001b[32m--> \u001b[39m\u001b[32m332\u001b[39m \u001b[38;5;28;01mreturn\u001b[39;00m \u001b[43m_create_gdf\u001b[49m\u001b[43m(\u001b[49m\u001b[43mresponse_jsons\u001b[49m\u001b[43m,\u001b[49m\u001b[43m \u001b[49m\u001b[43mpolygon\u001b[49m\u001b[43m,\u001b[49m\u001b[43m \u001b[49m\u001b[43mtags\u001b[49m\u001b[43m)\u001b[49m\n",
      "\u001b[36mFile \u001b[39m\u001b[32m~\\AppData\\Local\\Packages\\PythonSoftwareFoundation.Python.3.13_qbz5n2kfra8p0\\LocalCache\\local-packages\\Python313\\site-packages\\osmnx\\features.py:406\u001b[39m, in \u001b[36m_create_gdf\u001b[39m\u001b[34m(response_jsons, polygon, tags)\u001b[39m\n\u001b[32m    404\u001b[39m elements = []\n\u001b[32m    405\u001b[39m response_count = \u001b[32m0\u001b[39m\n\u001b[32m--> \u001b[39m\u001b[32m406\u001b[39m \u001b[43m\u001b[49m\u001b[38;5;28;43;01mfor\u001b[39;49;00m\u001b[43m \u001b[49m\u001b[43mresponse_json\u001b[49m\u001b[43m \u001b[49m\u001b[38;5;129;43;01min\u001b[39;49;00m\u001b[43m \u001b[49m\u001b[43mresponse_jsons\u001b[49m\u001b[43m:\u001b[49m\n\u001b[32m    407\u001b[39m \u001b[43m    \u001b[49m\u001b[43mresponse_count\u001b[49m\u001b[43m \u001b[49m\u001b[43m+\u001b[49m\u001b[43m=\u001b[49m\u001b[43m \u001b[49m\u001b[32;43m1\u001b[39;49m\n\u001b[32m    408\u001b[39m \u001b[43m    \u001b[49m\u001b[38;5;28;43;01mif\u001b[39;49;00m\u001b[43m \u001b[49m\u001b[38;5;129;43;01mnot\u001b[39;49;00m\u001b[43m \u001b[49m\u001b[43msettings\u001b[49m\u001b[43m.\u001b[49m\u001b[43mcache_only_mode\u001b[49m\u001b[43m:\u001b[49m\n",
      "\u001b[36mFile \u001b[39m\u001b[32m~\\AppData\\Local\\Packages\\PythonSoftwareFoundation.Python.3.13_qbz5n2kfra8p0\\LocalCache\\local-packages\\Python313\\site-packages\\osmnx\\_overpass.py:428\u001b[39m, in \u001b[36m_download_overpass_features\u001b[39m\u001b[34m(polygon, tags)\u001b[39m\n\u001b[32m    426\u001b[39m \u001b[38;5;28;01mfor\u001b[39;00m polygon_coord_str \u001b[38;5;129;01min\u001b[39;00m polygon_coord_strs:\n\u001b[32m    427\u001b[39m     query_str = _create_overpass_features_query(polygon_coord_str, tags)\n\u001b[32m--> \u001b[39m\u001b[32m428\u001b[39m     \u001b[38;5;28;01myield\u001b[39;00m \u001b[43m_overpass_request\u001b[49m\u001b[43m(\u001b[49m\u001b[43mOrderedDict\u001b[49m\u001b[43m(\u001b[49m\u001b[43mdata\u001b[49m\u001b[43m=\u001b[49m\u001b[43mquery_str\u001b[49m\u001b[43m)\u001b[49m\u001b[43m)\u001b[49m\n",
      "\u001b[36mFile \u001b[39m\u001b[32m~\\AppData\\Local\\Packages\\PythonSoftwareFoundation.Python.3.13_qbz5n2kfra8p0\\LocalCache\\local-packages\\Python313\\site-packages\\osmnx\\_overpass.py:481\u001b[39m, in \u001b[36m_overpass_request\u001b[39m\u001b[34m(data)\u001b[39m\n\u001b[32m    476\u001b[39m     msg = (\n\u001b[32m    477\u001b[39m         \u001b[33mf\u001b[39m\u001b[33m\"\u001b[39m\u001b[38;5;132;01m{\u001b[39;00mhostname\u001b[38;5;132;01m!r}\u001b[39;00m\u001b[33m responded \u001b[39m\u001b[38;5;132;01m{\u001b[39;00mresponse.status_code\u001b[38;5;132;01m}\u001b[39;00m\u001b[33m \u001b[39m\u001b[38;5;132;01m{\u001b[39;00mresponse.reason\u001b[38;5;132;01m}\u001b[39;00m\u001b[33m: \u001b[39m\u001b[33m\"\u001b[39m\n\u001b[32m    478\u001b[39m         \u001b[33mf\u001b[39m\u001b[33m\"\u001b[39m\u001b[33mwe\u001b[39m\u001b[33m'\u001b[39m\u001b[33mll retry in \u001b[39m\u001b[38;5;132;01m{\u001b[39;00merror_pause\u001b[38;5;132;01m}\u001b[39;00m\u001b[33m secs\u001b[39m\u001b[33m\"\u001b[39m\n\u001b[32m    479\u001b[39m     )\n\u001b[32m    480\u001b[39m     utils.log(msg, level=lg.WARNING)\n\u001b[32m--> \u001b[39m\u001b[32m481\u001b[39m     \u001b[43mtime\u001b[49m\u001b[43m.\u001b[49m\u001b[43msleep\u001b[49m\u001b[43m(\u001b[49m\u001b[43merror_pause\u001b[49m\u001b[43m)\u001b[49m\n\u001b[32m    482\u001b[39m     \u001b[38;5;28;01mreturn\u001b[39;00m _overpass_request(data)\n\u001b[32m    484\u001b[39m response_json = _http._parse_response(response)\n",
      "\u001b[31mKeyboardInterrupt\u001b[39m: "
     ]
    }
   ],
   "source": [
    "# matplotlibのバックエンドをAggに設定\n",
    "matplotlib.use('Agg')\n",
    "\n",
    "# 東京都市大学 横浜キャンパスの緯度経度と、センター北駅までの距離（メートル）を指定\n",
    "point = (35.568, 139.563) # 東京都市大学 横浜キャンパス\n",
    "dist = 860 # 半径860メートル\n",
    "\n",
    "# 道路網を取得\n",
    "G = ox.graph_from_point(point, dist=dist, network_type=\"drive\")\n",
    "print(\"get_graph\")\n",
    "\n",
    "# 道路網の全てのノード（交差点）を取得\n",
    "nodes = G.nodes()\n",
    "node_points = list(nodes)\n",
    "\n",
    "# ノードからランダムに10個の座標を選択\n",
    "# random.sample()は重複のない要素をランダムに選ぶ関数\n",
    "random_points = random.sample(node_points, 10)\n",
    "\n",
    "# 最初の5つを病院、次の5つをスーパーとする\n",
    "hospital_points = random_points[:5]\n",
    "supermarket_points = random_points[5:]\n",
    "\n",
    "# プロット用のデータフレームを作成\n",
    "hospitals = pd.DataFrame(\n",
    "    {'y': [nodes[node]['y'] for node in hospital_points],\n",
    "     'x': [nodes[node]['x'] for node in hospital_points]}\n",
    ")\n",
    "\n",
    "supermarkets = pd.DataFrame(\n",
    "    {'y': [nodes[node]['y'] for node in supermarket_points],\n",
    "     'x': [nodes[node]['x'] for node in supermarket_points]}\n",
    ")\n",
    "\n",
    "# 描画の準備\n",
    "fig, ax = ox.plot_graph(G, show=False, bgcolor='#FFFFFF')\n",
    "ax.set_title(\"Simulated Facilities around TCU Yokohama\")\n",
    "\n",
    "# 病院を赤色でプロット\n",
    "ax.scatter(hospitals['x'], hospitals['y'], color='red', s=50, label='Simulated Hospital')\n",
    "\n",
    "# スーパーマーケットを青色でプロット\n",
    "ax.scatter(supermarkets['x'], supermarkets['y'], color='blue', s=50, label='Simulated Supermarket')\n",
    "\n",
    "# 凡例を表示\n",
    "ax.legend()\n",
    "\n",
    "# 描画した画像をファイルとして保存\n",
    "plt.savefig('tcu_map_simulated_facilities.png', dpi=300)\n",
    "print(\"map saved\")\n",
    "\n",
    "# ファイルを読み込んで表示\n",
    "display(Image(filename='tcu_map_simulated_facilities.png'))\n",
    "\n",
    "# 描画ウィンドウを閉じる\n",
    "plt.close(fig)"
   ]
  }
 ],
 "metadata": {
  "kernelspec": {
   "display_name": "Python 3",
   "language": "python",
   "name": "python3"
  },
  "language_info": {
   "codemirror_mode": {
    "name": "ipython",
    "version": 3
   },
   "file_extension": ".py",
   "mimetype": "text/x-python",
   "name": "python",
   "nbconvert_exporter": "python",
   "pygments_lexer": "ipython3",
   "version": "3.13.5"
  }
 },
 "nbformat": 4,
 "nbformat_minor": 5
}
